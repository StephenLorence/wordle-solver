{
 "cells": [
  {
   "cell_type": "code",
   "execution_count": 3,
   "metadata": {},
   "outputs": [],
   "source": [
    "#helper_funcs.py\n",
    "\n",
    "from english_words import english_words_lower_alpha_set as english_words\n",
    "\n",
    "def generate_word_list(length):\n",
    "    \"\"\"\n",
    "    Use the set of lowercase English words from the english_words library\n",
    "    and filter that set to return only the words with a specified number\n",
    "    of letters in them.\n",
    "    \"\"\"\n",
    "\n",
    "    return list(filter(lambda x: len(x) == length, english_words))\n",
    "\n",
    "\n",
    "def validate_string_length(target, guess):\n",
    "    \"\"\"\n",
    "    Compare the length of the guess to the length of\n",
    "    the target. Both must be valid strings.\n",
    "    \"\"\"\n",
    "    try:\n",
    "        return len(str(target)) == len(str(guess))\n",
    "    except TypeError:\n",
    "        return False\n",
    "\n",
    "def check_index_position_matches(target, guess):\n",
    "    \"\"\"\n",
    "    Compare two words for letters that are in the same position.\n",
    "    Example: 'help' and 'halt' match 'h' and 'l' in the same index\n",
    "        position.\n",
    "\n",
    "    Returns a list of tuples consisting of each word in the guess and a\n",
    "    corresponding 'True' or 'False' value for a positional match.\n",
    "    Example: [('h', True), ('a', False), ('l', True), ('t', False)]\n",
    "    \"\"\"\n",
    "    return list(zip(guess, map(lambda x: x[0] == x[1], zip(target, guess))))\n",
    "\n",
    "def check_non_index_position_letter_matches(target, guess):\n",
    "    \"\"\"\n",
    "    Compare two words for letters that match but are not in the\n",
    "    same position.\n",
    "    Example: 'help' and 'play' match 'p' and 'l' in different index\n",
    "        positions.\n",
    "    \"\"\"\n",
    "\n",
    "    # Create a dictionary with the index value of each letter in the\n",
    "    # guess as a key and a tuple containing the letter and a starting\n",
    "    # value of False.\n",
    "    result_dict = dict(enumerate(zip(guess, [False] * len(guess))))\n",
    "    \n",
    "    # For each index position in guess, check for membership of target.\n",
    "    # If the letter is in the target, set the second value in the tuple\n",
    "    # to True.\n",
    "    for idx, g in enumerate(guess):\n",
    "        if g[0] in target:\n",
    "            result_dict[idx] = (g, True)\n",
    "\n",
    "    return result_dict\n",
    "\n",
    "def generate_letter_count(word):\n",
    "    \"\"\"\n",
    "    Generate a dictionary consisting of letters and frequency counts\n",
    "    of a provided word.\n",
    "    Example: 'porphyry' generates the following dictionary:\n",
    "        {'p': 2, 'o': 1, 'r': 2, 'h': 1, 'y': 2}\n",
    "    \"\"\"\n",
    "\n",
    "    # Create a set from the letters in the word.\n",
    "    word_set = set(word)\n",
    "\n",
    "    # Then create a dictionary from the set members and the count\n",
    "    # of how many times that letter shows up in the word.\n",
    "    return {x: word.count(x) for x in word_set}\n",
    "\n",
    "def compare_target_to_guess(target, guess):\n",
    "    \"\"\"\n",
    "    Check if the guess is equal to the target. If so, success!\n",
    "    If not, check for index position matches, then check for\n",
    "    letter matches that aren't index position matches.\n",
    "    \"\"\"\n",
    "\n",
    "    if target == guess:\n",
    "        return True\n",
    "\n",
    "    # Generate a letter count for the target word:\n",
    "    letter_count = generate_letter_count(target)\n",
    "\n",
    "    # Check for positional matches.\n",
    "    positional_results = check_index_position_matches(target, guess)\n",
    "\n",
    "    # Check for non-positional matches.\n",
    "    non_positional_results = check_non_index_position_letter_matches(target, guess)\n",
    "\n",
    "    # Create a list of underscores equal to the length of the target word.\n",
    "    comparison_length = len(target)\n",
    "    comparison_character = ['_']\n",
    "\n",
    "    comparison_result = comparison_character * comparison_length\n",
    "\n",
    "    # For each index position, if the letter from guess matches\n",
    "    # the letter from target, capitalize that letter and add it\n",
    "    # to comparison_result.\n",
    "    for idx, t in enumerate(positional_results):\n",
    "        if t[1] == True:\n",
    "            comparison_result[idx] = t[0].capitalize()\n",
    "\n",
    "            # Also subtract 1 from that letter's value in letter_count.\n",
    "            letter_count[t[0]] -= 1\n",
    "\n",
    "    # For each element of non_positional_matches with a value of True in\n",
    "    # the tuple's second position, skip the position if it is populated\n",
    "    # with a letter rather than an underscore.\n",
    "    for idx, t in non_positional_results.items():\n",
    "        if comparison_result[idx] == '_':\n",
    "            if t[1] == True:\n",
    "\n",
    "                # Then, check if that element's letter has a positive value in letter_count.\n",
    "                if letter_count[t[0]] > 0:\n",
    "\n",
    "                    # If so, populate the letter into that position in comparison_result.\n",
    "                    # The letter will be in lowercase to signal that the letter is in the word,\n",
    "                    # but not in that position.\n",
    "                    comparison_result[idx] = t[0].lower()\n",
    "\n",
    "                    # Then subtract 1 from that letter's value in letter_count.\n",
    "                    letter_count[t[0]] -= 1\n",
    "\n",
    "    return comparison_result\n",
    "    "
   ]
  },
  {
   "cell_type": "code",
   "execution_count": 4,
   "metadata": {},
   "outputs": [],
   "source": [
    "test_list = generate_word_list(5)"
   ]
  },
  {
   "cell_type": "code",
   "execution_count": 5,
   "metadata": {},
   "outputs": [
    {
     "data": {
      "text/plain": [
       "'betel'"
      ]
     },
     "execution_count": 5,
     "metadata": {},
     "output_type": "execute_result"
    }
   ],
   "source": [
    "test_list[8]"
   ]
  },
  {
   "cell_type": "code",
   "execution_count": 6,
   "metadata": {},
   "outputs": [
    {
     "data": {
      "text/plain": [
       "3213"
      ]
     },
     "execution_count": 6,
     "metadata": {},
     "output_type": "execute_result"
    }
   ],
   "source": [
    "len(test_list)"
   ]
  },
  {
   "cell_type": "code",
   "execution_count": 7,
   "metadata": {},
   "outputs": [],
   "source": [
    "from random import choice"
   ]
  },
  {
   "cell_type": "code",
   "execution_count": 12,
   "metadata": {},
   "outputs": [
    {
     "data": {
      "text/plain": [
       "'clock'"
      ]
     },
     "execution_count": 12,
     "metadata": {},
     "output_type": "execute_result"
    }
   ],
   "source": [
    "choice(test_list)"
   ]
  },
  {
   "cell_type": "code",
   "execution_count": 15,
   "metadata": {},
   "outputs": [],
   "source": [
    "set_1 = set('abc')\n",
    "set_2 = set('bc')"
   ]
  },
  {
   "cell_type": "code",
   "execution_count": 19,
   "metadata": {},
   "outputs": [
    {
     "data": {
      "text/plain": [
       "{'a'}"
      ]
     },
     "execution_count": 19,
     "metadata": {},
     "output_type": "execute_result"
    }
   ],
   "source": [
    "set_1 - set_2"
   ]
  },
  {
   "cell_type": "code",
   "execution_count": null,
   "metadata": {},
   "outputs": [],
   "source": []
  }
 ],
 "metadata": {
  "interpreter": {
   "hash": "2be5faf79681da6f2a61fdfdd5405d65d042280f7fba6178067603e3a2925119"
  },
  "kernelspec": {
   "display_name": "Python 3.10.2 64-bit",
   "language": "python",
   "name": "python3"
  },
  "language_info": {
   "codemirror_mode": {
    "name": "ipython",
    "version": 3
   },
   "file_extension": ".py",
   "mimetype": "text/x-python",
   "name": "python",
   "nbconvert_exporter": "python",
   "pygments_lexer": "ipython3",
   "version": "3.10.2"
  },
  "orig_nbformat": 4
 },
 "nbformat": 4,
 "nbformat_minor": 2
}
